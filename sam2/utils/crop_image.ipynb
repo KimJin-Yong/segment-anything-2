{
 "cells": [
  {
   "cell_type": "code",
   "execution_count": 1,
   "metadata": {},
   "outputs": [
    {
     "name": "stdout",
     "output_type": "stream",
     "text": [
      "이미지 처리 완료!\n"
     ]
    }
   ],
   "source": [
    "from PIL import Image\n",
    "import os\n",
    "\n",
    "# 이미지가 저장된 폴더 경로\n",
    "input_folder = r\"C:\\Users\\dockn\\OneDrive\\바탕 화면\\비디오 사진\"\n",
    "output_folder = r\"C:\\Users\\dockn\\OneDrive\\바탕 화면\\비디오 사진\\out\"\n",
    "\n",
    "# 폴더가 존재하지 않으면 생성\n",
    "if not os.path.exists(output_folder):\n",
    "    os.makedirs(output_folder)\n",
    "\n",
    "# 폴더 내 모든 파일 순회\n",
    "for filename in os.listdir(input_folder):\n",
    "    if filename.endswith(\".png\"):\n",
    "        img_path = os.path.join(input_folder, filename)\n",
    "        img = Image.open(img_path)\n",
    "        \n",
    "        # 이미지의 투명하지 않은 영역만으로 크롭\n",
    "        img_cropped = img.crop(img.getbbox())\n",
    "        \n",
    "        # 결과 저장\n",
    "        output_path = os.path.join(output_folder, filename)\n",
    "        img_cropped.save(output_path)\n",
    "\n",
    "print(\"이미지 처리 완료!\")"
   ]
  }
 ],
 "metadata": {
  "kernelspec": {
   "display_name": "JY",
   "language": "python",
   "name": "python3"
  },
  "language_info": {
   "codemirror_mode": {
    "name": "ipython",
    "version": 3
   },
   "file_extension": ".py",
   "mimetype": "text/x-python",
   "name": "python",
   "nbconvert_exporter": "python",
   "pygments_lexer": "ipython3",
   "version": "3.12.5"
  }
 },
 "nbformat": 4,
 "nbformat_minor": 2
}
