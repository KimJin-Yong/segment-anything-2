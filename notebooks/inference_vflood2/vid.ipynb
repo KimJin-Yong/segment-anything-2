{
 "cells": [
  {
   "cell_type": "code",
   "execution_count": 1,
   "metadata": {},
   "outputs": [],
   "source": [
    "import subprocess"
   ]
  },
  {
   "cell_type": "code",
   "execution_count": 2,
   "metadata": {},
   "outputs": [
    {
     "data": {
      "text/plain": [
       "CompletedProcess(args=['C:\\\\Users\\\\dockn\\\\SAM-code\\\\ffmpeg-7.0.2-essentials_build\\\\bin\\\\ffmpeg.exe', '-i', '%05d.jpg', '-r', '20', '-pix_fmt', 'yuv420p', 'fine_tune_mask.mp4'], returncode=0)"
      ]
     },
     "execution_count": 2,
     "metadata": {},
     "output_type": "execute_result"
    }
   ],
   "source": [
    "subprocess.run([\n",
    "    r'C:\\Users\\dockn\\SAM-code\\ffmpeg-7.0.2-essentials_build\\bin\\ffmpeg.exe', '-i', '%05d.jpg', '-r', '20', '-pix_fmt', 'yuv420p',\n",
    "    'fine_tune_mask.mp4'\n",
    "])"
   ]
  },
  {
   "cell_type": "code",
   "execution_count": null,
   "metadata": {},
   "outputs": [],
   "source": []
  }
 ],
 "metadata": {
  "kernelspec": {
   "display_name": "JY",
   "language": "python",
   "name": "python3"
  },
  "language_info": {
   "codemirror_mode": {
    "name": "ipython",
    "version": 3
   },
   "file_extension": ".py",
   "mimetype": "text/x-python",
   "name": "python",
   "nbconvert_exporter": "python",
   "pygments_lexer": "ipython3",
   "version": "3.12.5"
  }
 },
 "nbformat": 4,
 "nbformat_minor": 2
}
